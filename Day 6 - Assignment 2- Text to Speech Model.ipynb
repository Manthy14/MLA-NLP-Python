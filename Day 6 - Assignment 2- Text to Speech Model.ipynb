{
 "cells": [
  {
   "cell_type": "code",
   "execution_count": 1,
   "id": "f36ebd73",
   "metadata": {},
   "outputs": [
    {
     "name": "stdout",
     "output_type": "stream",
     "text": [
      "User text pl >>:Natural Language Processing (NLP) is a branch of artificial intelligence that focuses on the interaction between computers and human languages, enabling machines to understand, interpret, and generate human-like text. NLP applications range from language translation and sentiment analysis to chatbots and text summarization, playing a crucial role in making machines more adept at comprehending and generating natural language.\n"
     ]
    }
   ],
   "source": [
    "from gtts import gTTS\n",
    "import os\n",
    "\n",
    "def text_to_speech(text,language='en',filename='output.mp3'):\n",
    "    tts=gTTS(text=text,lang=language,slow=False)\n",
    "    tts.save(filename)\n",
    "    os.system(f'start{filename}')\n",
    "    \n",
    "if __name__ == \"__main__\":\n",
    "    input_text = input('User text pl >>:')\n",
    "    text_to_speech(input_text)"
   ]
  },
  {
   "cell_type": "markdown",
   "id": "83666324",
   "metadata": {},
   "source": [
    "# Another way using pyttsx3"
   ]
  },
  {
   "cell_type": "code",
   "execution_count": 2,
   "id": "f5dbd31f",
   "metadata": {},
   "outputs": [
    {
     "name": "stdout",
     "output_type": "stream",
     "text": [
      "Uset text >>:Natural Language Processing (NLP) is a branch of artificial intelligence that focuses on the interaction between computers and human languages, enabling machines to understand, interpret, and generate human-like text. NLP applications range from language translation and sentiment analysis to chatbots and text summarization, playing a crucial role in making machines more adept at comprehending and generating natural language.\n"
     ]
    }
   ],
   "source": [
    "import pyttsx3\n",
    "\n",
    "# Initialize the TTS engine\n",
    "engine = pyttsx3.init()\n",
    "\n",
    "# Example text to be converted to speech\n",
    "text_to_speak = input('Uset text >>:')\n",
    "\n",
    "# Set properties (optional)\n",
    "engine.setProperty('rate', 150)  # Speed of speech\n",
    "engine.setProperty('volume', 1.0)  # Volume (0.0 to 1.0)\n",
    "\n",
    "# Convert text to speech\n",
    "engine.say(text_to_speak)\n",
    "\n",
    "# Wait for the speech to finish\n",
    "engine.runAndWait()"
   ]
  },
  {
   "cell_type": "code",
   "execution_count": null,
   "id": "c39e6e37",
   "metadata": {},
   "outputs": [],
   "source": []
  }
 ],
 "metadata": {
  "kernelspec": {
   "display_name": "Python 3 (ipykernel)",
   "language": "python",
   "name": "python3"
  },
  "language_info": {
   "codemirror_mode": {
    "name": "ipython",
    "version": 3
   },
   "file_extension": ".py",
   "mimetype": "text/x-python",
   "name": "python",
   "nbconvert_exporter": "python",
   "pygments_lexer": "ipython3",
   "version": "3.11.4"
  }
 },
 "nbformat": 4,
 "nbformat_minor": 5
}
