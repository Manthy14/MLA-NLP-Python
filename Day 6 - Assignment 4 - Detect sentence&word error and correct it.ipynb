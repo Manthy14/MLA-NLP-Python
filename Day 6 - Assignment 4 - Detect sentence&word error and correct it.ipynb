{
 "cells": [
  {
   "cell_type": "markdown",
   "id": "fe21f51d",
   "metadata": {},
   "source": [
    "# Error Dectection Model"
   ]
  },
  {
   "cell_type": "code",
   "execution_count": 2,
   "id": "e0330e74",
   "metadata": {},
   "outputs": [],
   "source": [
    "import nltk\n",
    "from nltk import sent_tokenize, word_tokenize\n",
    "from nltk.corpus import words\n",
    "from textblob import TextBlob"
   ]
  },
  {
   "cell_type": "markdown",
   "id": "774e472e",
   "metadata": {},
   "source": [
    "nltk.download('punkt')\n",
    "\n",
    "nltk.download('words')\n"
   ]
  },
  {
   "cell_type": "code",
   "execution_count": 3,
   "id": "c61fc53e",
   "metadata": {},
   "outputs": [],
   "source": [
    "def detect_errors(text):\n",
    "    sentences = sent_tokenize(text)\n",
    "    error_sentences = []\n",
    "\n",
    "    for sentence in sentences:\n",
    "        words_in_sentence = word_tokenize(sentence)\n",
    "        non_english_words = [word for word in words_in_sentence if word.lower() not in words.words()]\n",
    "        \n",
    "        if non_english_words:\n",
    "            error_sentences.append(sentence)\n",
    "\n",
    "    return error_sentences"
   ]
  },
  {
   "cell_type": "code",
   "execution_count": 4,
   "id": "2c8af16d",
   "metadata": {},
   "outputs": [],
   "source": [
    "# Example usage:\n",
    "text_corpus = \"This is a sample sentence with errr in it. Another sentence with another errror.\"\n",
    "error_sentences = detect_errors(text_corpus)"
   ]
  },
  {
   "cell_type": "code",
   "execution_count": 5,
   "id": "0d500241",
   "metadata": {},
   "outputs": [
    {
     "name": "stdout",
     "output_type": "stream",
     "text": [
      "Error Sentences:\n",
      "- This is a sample sentence with errr in it.\n",
      "- Another sentence with another errror.\n"
     ]
    }
   ],
   "source": [
    "print(\"Error Sentences:\")\n",
    "for sentence in error_sentences:\n",
    "    print(\"-\", sentence)"
   ]
  },
  {
   "cell_type": "markdown",
   "id": "5b252bd1",
   "metadata": {},
   "source": [
    "# Error Correction Model"
   ]
  },
  {
   "cell_type": "code",
   "execution_count": 6,
   "id": "99aa5a71",
   "metadata": {},
   "outputs": [],
   "source": [
    "def correct_errors(text):\n",
    "    blob = TextBlob(text)\n",
    "    corrected_text = str(blob.correct())\n",
    "    return corrected_text"
   ]
  },
  {
   "cell_type": "code",
   "execution_count": 7,
   "id": "f69d215f",
   "metadata": {},
   "outputs": [
    {
     "name": "stdout",
     "output_type": "stream",
     "text": [
      "\n",
      "Corrected Text:\n",
      "His is a sample sentence with error in it. Another sentence with another error.\n"
     ]
    }
   ],
   "source": [
    "# Example usage:\n",
    "corrected_text = correct_errors(text_corpus)\n",
    "print(\"\\nCorrected Text:\")\n",
    "print(corrected_text)\n"
   ]
  },
  {
   "cell_type": "code",
   "execution_count": null,
   "id": "449fb17f",
   "metadata": {},
   "outputs": [],
   "source": []
  }
 ],
 "metadata": {
  "kernelspec": {
   "display_name": "Python 3 (ipykernel)",
   "language": "python",
   "name": "python3"
  },
  "language_info": {
   "codemirror_mode": {
    "name": "ipython",
    "version": 3
   },
   "file_extension": ".py",
   "mimetype": "text/x-python",
   "name": "python",
   "nbconvert_exporter": "python",
   "pygments_lexer": "ipython3",
   "version": "3.11.4"
  }
 },
 "nbformat": 4,
 "nbformat_minor": 5
}
