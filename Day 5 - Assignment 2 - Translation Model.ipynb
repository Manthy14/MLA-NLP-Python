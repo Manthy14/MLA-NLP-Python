{
 "cells": [
  {
   "cell_type": "code",
   "execution_count": 1,
   "id": "862d435e",
   "metadata": {},
   "outputs": [],
   "source": [
    "from transformers import MarianMTModel, MarianTokenizer"
   ]
  },
  {
   "cell_type": "code",
   "execution_count": 2,
   "id": "bb474bcc",
   "metadata": {},
   "outputs": [],
   "source": [
    "# Load pre-trained MarianMT English to French model and tokenizer\n",
    "model_name = \"Helsinki-NLP/opus-mt-en-fr\"\n",
    "tokenizer = MarianTokenizer.from_pretrained(model_name)\n",
    "model = MarianMTModel.from_pretrained(model_name)"
   ]
  },
  {
   "cell_type": "code",
   "execution_count": 3,
   "id": "aa6a3387",
   "metadata": {},
   "outputs": [],
   "source": [
    "# Translate a sentence from English to French\n",
    "english_sentence = \"Hello, how are you?\"\n",
    "input_ids = tokenizer.encode(english_sentence, return_tensors=\"pt\")"
   ]
  },
  {
   "cell_type": "code",
   "execution_count": 4,
   "id": "bce0941c",
   "metadata": {},
   "outputs": [],
   "source": [
    "# Generate translation\n",
    "output_ids = model.generate(input_ids)\n",
    "french_translation = tokenizer.decode(output_ids[0], skip_special_tokens=True)"
   ]
  },
  {
   "cell_type": "code",
   "execution_count": 5,
   "id": "4448c10b",
   "metadata": {},
   "outputs": [
    {
     "name": "stdout",
     "output_type": "stream",
     "text": [
      "Bonjour, comment allez-vous?\n"
     ]
    }
   ],
   "source": [
    "# Print the translation\n",
    "print(french_translation)"
   ]
  },
  {
   "cell_type": "code",
   "execution_count": 6,
   "id": "d2d7dbf4",
   "metadata": {},
   "outputs": [
    {
     "name": "stdout",
     "output_type": "stream",
     "text": [
      "Mon nom est Manthan\n"
     ]
    }
   ],
   "source": [
    "# Translate a sentence from English to French\n",
    "english_sentence1 = \"My name is Manthan\"\n",
    "input_ids = tokenizer.encode(english_sentence1, return_tensors=\"pt\")\n",
    "\n",
    "# Generate translation\n",
    "output_ids = model.generate(input_ids)\n",
    "french_translation = tokenizer.decode(output_ids[0], skip_special_tokens=True)\n",
    "\n",
    "# Print the translation\n",
    "print(french_translation)"
   ]
  },
  {
   "cell_type": "code",
   "execution_count": null,
   "id": "32313568",
   "metadata": {},
   "outputs": [],
   "source": []
  }
 ],
 "metadata": {
  "kernelspec": {
   "display_name": "Python 3 (ipykernel)",
   "language": "python",
   "name": "python3"
  },
  "language_info": {
   "codemirror_mode": {
    "name": "ipython",
    "version": 3
   },
   "file_extension": ".py",
   "mimetype": "text/x-python",
   "name": "python",
   "nbconvert_exporter": "python",
   "pygments_lexer": "ipython3",
   "version": "3.11.4"
  }
 },
 "nbformat": 4,
 "nbformat_minor": 5
}
