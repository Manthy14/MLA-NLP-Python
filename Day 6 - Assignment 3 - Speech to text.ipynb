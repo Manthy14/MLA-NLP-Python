{
 "cells": [
  {
   "cell_type": "code",
   "execution_count": 2,
   "id": "be95f137",
   "metadata": {},
   "outputs": [],
   "source": [
    "import speech_recognition as sr"
   ]
  },
  {
   "cell_type": "code",
   "execution_count": 3,
   "id": "1024c365",
   "metadata": {},
   "outputs": [],
   "source": [
    "recog=sr.Recognizer()"
   ]
  },
  {
   "cell_type": "code",
   "execution_count": 4,
   "id": "0853743d",
   "metadata": {},
   "outputs": [],
   "source": [
    "?recog.record"
   ]
  },
  {
   "cell_type": "code",
   "execution_count": 5,
   "id": "1ee01fc7",
   "metadata": {},
   "outputs": [
    {
     "data": {
      "text/plain": [
       "['__class__',\n",
       " '__delattr__',\n",
       " '__dict__',\n",
       " '__dir__',\n",
       " '__doc__',\n",
       " '__enter__',\n",
       " '__eq__',\n",
       " '__exit__',\n",
       " '__format__',\n",
       " '__ge__',\n",
       " '__getattribute__',\n",
       " '__getstate__',\n",
       " '__gt__',\n",
       " '__hash__',\n",
       " '__init__',\n",
       " '__init_subclass__',\n",
       " '__le__',\n",
       " '__lt__',\n",
       " '__module__',\n",
       " '__ne__',\n",
       " '__new__',\n",
       " '__reduce__',\n",
       " '__reduce_ex__',\n",
       " '__repr__',\n",
       " '__setattr__',\n",
       " '__sizeof__',\n",
       " '__str__',\n",
       " '__subclasshook__',\n",
       " '__weakref__',\n",
       " 'adjust_for_ambient_noise',\n",
       " 'dynamic_energy_adjustment_damping',\n",
       " 'dynamic_energy_ratio',\n",
       " 'dynamic_energy_threshold',\n",
       " 'energy_threshold',\n",
       " 'lasttfgraph',\n",
       " 'listen',\n",
       " 'listen_in_background',\n",
       " 'non_speaking_duration',\n",
       " 'operation_timeout',\n",
       " 'pause_threshold',\n",
       " 'phrase_threshold',\n",
       " 'recognize_amazon',\n",
       " 'recognize_api',\n",
       " 'recognize_assemblyai',\n",
       " 'recognize_azure',\n",
       " 'recognize_bing',\n",
       " 'recognize_google',\n",
       " 'recognize_google_cloud',\n",
       " 'recognize_houndify',\n",
       " 'recognize_ibm',\n",
       " 'recognize_lex',\n",
       " 'recognize_sphinx',\n",
       " 'recognize_tensorflow',\n",
       " 'recognize_vosk',\n",
       " 'recognize_whisper',\n",
       " 'recognize_whisper_api',\n",
       " 'recognize_wit',\n",
       " 'record',\n",
       " 'snowboy_wait_for_hot_word',\n",
       " 'tflabels']"
      ]
     },
     "execution_count": 5,
     "metadata": {},
     "output_type": "execute_result"
    }
   ],
   "source": [
    "dir(recog)"
   ]
  },
  {
   "cell_type": "markdown",
   "id": "81462201",
   "metadata": {},
   "source": [
    "# Load the audio file"
   ]
  },
  {
   "cell_type": "code",
   "execution_count": 6,
   "id": "9d5fc81c",
   "metadata": {},
   "outputs": [
    {
     "data": {
      "text/plain": [
       "<speech_recognition.AudioFile at 0x2ad2a3f0dd0>"
      ]
     },
     "execution_count": 6,
     "metadata": {},
     "output_type": "execute_result"
    }
   ],
   "source": [
    "samp = sr.AudioFile('harvard.wav')\n",
    "samp"
   ]
  },
  {
   "cell_type": "markdown",
   "id": "bbfa4894",
   "metadata": {},
   "source": [
    "# With this as source,'record' the audio from the file"
   ]
  },
  {
   "cell_type": "code",
   "execution_count": 7,
   "id": "1d8cab97",
   "metadata": {},
   "outputs": [],
   "source": [
    "with samp as source:\n",
    "    audio = recog.record(samp)"
   ]
  },
  {
   "cell_type": "markdown",
   "id": "38b2f3bf",
   "metadata": {},
   "source": [
    "# Using 'recognize_google' method to convert the audio to text"
   ]
  },
  {
   "cell_type": "code",
   "execution_count": 8,
   "id": "eedc1b3a",
   "metadata": {},
   "outputs": [
    {
     "name": "stdout",
     "output_type": "stream",
     "text": [
      "Text for the audio\n",
      "the still smell of old buildings it takes heat to bring out the order I call debt restore pickle please find with him Tales of pastor are my favourite is just for food is the hot cross bun\n"
     ]
    }
   ],
   "source": [
    "res = recog.recognize_google(audio)\n",
    "print('Text for the audio')\n",
    "print(res)"
   ]
  },
  {
   "cell_type": "markdown",
   "id": "8a489b6f",
   "metadata": {},
   "source": [
    "# Create a function to convert text from speech"
   ]
  },
  {
   "cell_type": "code",
   "execution_count": 9,
   "id": "7441cc86",
   "metadata": {},
   "outputs": [],
   "source": [
    "def speech_to_text(file):\n",
    "    samp=sr.AudioFile(file)\n",
    "    with samp as source:\n",
    "        audio=recog.record(samp)\n",
    "    return recog.recognize_google(audio)"
   ]
  },
  {
   "cell_type": "code",
   "execution_count": 12,
   "id": "58b28611",
   "metadata": {},
   "outputs": [
    {
     "name": "stdout",
     "output_type": "stream",
     "text": [
      "you just want to take a minute\n"
     ]
    }
   ],
   "source": [
    "op_text=speech_to_text(\"Conference.wav\")\n",
    "print(op_text)"
   ]
  },
  {
   "cell_type": "markdown",
   "id": "c0ee649c",
   "metadata": {},
   "source": [
    "# Preprocess the Text"
   ]
  },
  {
   "cell_type": "code",
   "execution_count": 13,
   "id": "0fd774c5",
   "metadata": {},
   "outputs": [
    {
     "data": {
      "text/plain": [
       "['you', 'just', 'want', 'to', 'take', 'a', 'minute']"
      ]
     },
     "execution_count": 13,
     "metadata": {},
     "output_type": "execute_result"
    }
   ],
   "source": [
    "from nltk.tokenize import word_tokenize\n",
    "tokens=word_tokenize(op_text.lower())\n",
    "tokens"
   ]
  },
  {
   "cell_type": "markdown",
   "id": "b302b4f0",
   "metadata": {},
   "source": [
    "# Define Feature list"
   ]
  },
  {
   "cell_type": "code",
   "execution_count": 14,
   "id": "a6b7272a",
   "metadata": {},
   "outputs": [
    {
     "data": {
      "text/plain": [
       "['echo',\n",
       " 'alexa',\n",
       " 'minute',\n",
       " 'sound',\n",
       " 'second',\n",
       " 'bluetooth',\n",
       " 'hours',\n",
       " 'battery',\n",
       " 'dot',\n",
       " 'phone']"
      ]
     },
     "execution_count": 14,
     "metadata": {},
     "output_type": "execute_result"
    }
   ],
   "source": [
    "feature_list=['echo','alexa','minute','sound','second','bluetooth','hours','battery','dot','phone']\n",
    "feature_list"
   ]
  },
  {
   "cell_type": "markdown",
   "id": "03193e95",
   "metadata": {},
   "source": [
    "# Identify which of the features are being talked of in the audio review file"
   ]
  },
  {
   "cell_type": "code",
   "execution_count": 16,
   "id": "acaccbf8",
   "metadata": {},
   "outputs": [
    {
     "data": {
      "text/plain": [
       "['minute']"
      ]
     },
     "execution_count": 16,
     "metadata": {},
     "output_type": "execute_result"
    }
   ],
   "source": [
    "review_features=[term for term in tokens if term in feature_list]\n",
    "review_features"
   ]
  },
  {
   "cell_type": "code",
   "execution_count": 17,
   "id": "e1c40ece",
   "metadata": {},
   "outputs": [
    {
     "data": {
      "text/plain": [
       "['minute']"
      ]
     },
     "execution_count": 17,
     "metadata": {},
     "output_type": "execute_result"
    }
   ],
   "source": [
    "review_features=list(set(review_features))\n",
    "review_features"
   ]
  },
  {
   "cell_type": "code",
   "execution_count": null,
   "id": "c2210897",
   "metadata": {},
   "outputs": [],
   "source": []
  }
 ],
 "metadata": {
  "kernelspec": {
   "display_name": "Python 3 (ipykernel)",
   "language": "python",
   "name": "python3"
  },
  "language_info": {
   "codemirror_mode": {
    "name": "ipython",
    "version": 3
   },
   "file_extension": ".py",
   "mimetype": "text/x-python",
   "name": "python",
   "nbconvert_exporter": "python",
   "pygments_lexer": "ipython3",
   "version": "3.11.4"
  }
 },
 "nbformat": 4,
 "nbformat_minor": 5
}
